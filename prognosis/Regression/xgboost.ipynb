{
 "cells": [
  {
   "cell_type": "code",
   "execution_count": 1,
   "metadata": {},
   "outputs": [
    {
     "name": "stderr",
     "output_type": "stream",
     "text": [
      "Using TensorFlow backend.\n"
     ]
    },
    {
     "name": "stdout",
     "output_type": "stream",
     "text": [
      "1\n"
     ]
    },
    {
     "name": "stderr",
     "output_type": "stream",
     "text": [
      "/home/navodini/py3_kernel/lib/python3.5/site-packages/xgboost/core.py:587: FutureWarning: Series.base is deprecated and will be removed in a future version\n",
      "  if getattr(data, 'base', None) is not None and \\\n",
      "/home/navodini/py3_kernel/lib/python3.5/site-packages/xgboost/core.py:588: FutureWarning: Series.base is deprecated and will be removed in a future version\n",
      "  data.base is not None and isinstance(data, np.ndarray) \\\n"
     ]
    },
    {
     "ename": "TypeError",
     "evalue": "a float is required",
     "output_type": "error",
     "traceback": [
      "\u001b[0;31m---------------------------------------------------------------------------\u001b[0m",
      "\u001b[0;31mTypeError\u001b[0m                                 Traceback (most recent call last)",
      "\u001b[0;32m<ipython-input-1-c985d950c232>\u001b[0m in \u001b[0;36m<module>\u001b[0;34m\u001b[0m\n\u001b[1;32m     80\u001b[0m         \u001b[0;31m#print(data_RFE.columns)\u001b[0m\u001b[0;34m\u001b[0m\u001b[0;34m\u001b[0m\u001b[0m\n\u001b[1;32m     81\u001b[0m         \u001b[0mmodel\u001b[0m \u001b[0;34m=\u001b[0m \u001b[0mxgboost\u001b[0m\u001b[0;34m.\u001b[0m\u001b[0mXGBRegressor\u001b[0m\u001b[0;34m(\u001b[0m\u001b[0mn_estimators\u001b[0m\u001b[0;34m=\u001b[0m\u001b[0;36m100\u001b[0m\u001b[0;34m,\u001b[0m \u001b[0mlearning_rate\u001b[0m\u001b[0;34m=\u001b[0m\u001b[0;36m0.08\u001b[0m\u001b[0;34m)\u001b[0m\u001b[0;34m\u001b[0m\u001b[0m\n\u001b[0;32m---> 82\u001b[0;31m         \u001b[0mmodel\u001b[0m\u001b[0;34m.\u001b[0m\u001b[0mfit\u001b[0m\u001b[0;34m(\u001b[0m\u001b[0mdata_RFE\u001b[0m\u001b[0;34m,\u001b[0m \u001b[0mtrain_y\u001b[0m\u001b[0;34m)\u001b[0m\u001b[0;34m\u001b[0m\u001b[0m\n\u001b[0m\u001b[1;32m     83\u001b[0m \u001b[0;34m\u001b[0m\u001b[0m\n\u001b[1;32m     84\u001b[0m         \u001b[0mY_pred\u001b[0m\u001b[0;34m=\u001b[0m\u001b[0mmodel\u001b[0m\u001b[0;34m.\u001b[0m\u001b[0mpredict\u001b[0m\u001b[0;34m(\u001b[0m\u001b[0mvalid_RFE\u001b[0m\u001b[0;34m)\u001b[0m\u001b[0;34m.\u001b[0m\u001b[0mravel\u001b[0m\u001b[0;34m(\u001b[0m\u001b[0;34m)\u001b[0m\u001b[0;34m\u001b[0m\u001b[0m\n",
      "\u001b[0;32m~/py3_kernel/lib/python3.5/site-packages/xgboost/sklearn.py\u001b[0m in \u001b[0;36mfit\u001b[0;34m(self, X, y, sample_weight, eval_set, eval_metric, early_stopping_rounds, verbose, xgb_model, sample_weight_eval_set, callbacks)\u001b[0m\n\u001b[1;32m    340\u001b[0m                                    missing=self.missing, nthread=self.n_jobs)\n\u001b[1;32m    341\u001b[0m         \u001b[0;32melse\u001b[0m\u001b[0;34m:\u001b[0m\u001b[0;34m\u001b[0m\u001b[0m\n\u001b[0;32m--> 342\u001b[0;31m             \u001b[0mtrainDmatrix\u001b[0m \u001b[0;34m=\u001b[0m \u001b[0mDMatrix\u001b[0m\u001b[0;34m(\u001b[0m\u001b[0mX\u001b[0m\u001b[0;34m,\u001b[0m \u001b[0mlabel\u001b[0m\u001b[0;34m=\u001b[0m\u001b[0my\u001b[0m\u001b[0;34m,\u001b[0m \u001b[0mmissing\u001b[0m\u001b[0;34m=\u001b[0m\u001b[0mself\u001b[0m\u001b[0;34m.\u001b[0m\u001b[0mmissing\u001b[0m\u001b[0;34m,\u001b[0m \u001b[0mnthread\u001b[0m\u001b[0;34m=\u001b[0m\u001b[0mself\u001b[0m\u001b[0;34m.\u001b[0m\u001b[0mn_jobs\u001b[0m\u001b[0;34m)\u001b[0m\u001b[0;34m\u001b[0m\u001b[0m\n\u001b[0m\u001b[1;32m    343\u001b[0m \u001b[0;34m\u001b[0m\u001b[0m\n\u001b[1;32m    344\u001b[0m         \u001b[0mevals_result\u001b[0m \u001b[0;34m=\u001b[0m \u001b[0;34m{\u001b[0m\u001b[0;34m}\u001b[0m\u001b[0;34m\u001b[0m\u001b[0m\n",
      "\u001b[0;32m~/py3_kernel/lib/python3.5/site-packages/xgboost/core.py\u001b[0m in \u001b[0;36m__init__\u001b[0;34m(self, data, label, missing, weight, silent, feature_names, feature_types, nthread)\u001b[0m\n\u001b[1;32m    420\u001b[0m                 \u001b[0mself\u001b[0m\u001b[0;34m.\u001b[0m\u001b[0mset_label_npy2d\u001b[0m\u001b[0;34m(\u001b[0m\u001b[0mlabel\u001b[0m\u001b[0;34m)\u001b[0m\u001b[0;34m\u001b[0m\u001b[0m\n\u001b[1;32m    421\u001b[0m             \u001b[0;32melse\u001b[0m\u001b[0;34m:\u001b[0m\u001b[0;34m\u001b[0m\u001b[0m\n\u001b[0;32m--> 422\u001b[0;31m                 \u001b[0mself\u001b[0m\u001b[0;34m.\u001b[0m\u001b[0mset_label\u001b[0m\u001b[0;34m(\u001b[0m\u001b[0mlabel\u001b[0m\u001b[0;34m)\u001b[0m\u001b[0;34m\u001b[0m\u001b[0m\n\u001b[0m\u001b[1;32m    423\u001b[0m         \u001b[0;32mif\u001b[0m \u001b[0mweight\u001b[0m \u001b[0;32mis\u001b[0m \u001b[0;32mnot\u001b[0m \u001b[0;32mNone\u001b[0m\u001b[0;34m:\u001b[0m\u001b[0;34m\u001b[0m\u001b[0m\n\u001b[1;32m    424\u001b[0m             \u001b[0;32mif\u001b[0m \u001b[0misinstance\u001b[0m\u001b[0;34m(\u001b[0m\u001b[0mweight\u001b[0m\u001b[0;34m,\u001b[0m \u001b[0mnp\u001b[0m\u001b[0;34m.\u001b[0m\u001b[0mndarray\u001b[0m\u001b[0;34m)\u001b[0m\u001b[0;34m:\u001b[0m\u001b[0;34m\u001b[0m\u001b[0m\n",
      "\u001b[0;32m~/py3_kernel/lib/python3.5/site-packages/xgboost/core.py\u001b[0m in \u001b[0;36mset_label\u001b[0;34m(self, label)\u001b[0m\n\u001b[1;32m    668\u001b[0m             \u001b[0mThe\u001b[0m \u001b[0mlabel\u001b[0m \u001b[0minformation\u001b[0m \u001b[0mto\u001b[0m \u001b[0mbe\u001b[0m \u001b[0mset\u001b[0m \u001b[0minto\u001b[0m \u001b[0mDMatrix\u001b[0m\u001b[0;34m\u001b[0m\u001b[0m\n\u001b[1;32m    669\u001b[0m         \"\"\"\n\u001b[0;32m--> 670\u001b[0;31m         \u001b[0mself\u001b[0m\u001b[0;34m.\u001b[0m\u001b[0mset_float_info\u001b[0m\u001b[0;34m(\u001b[0m\u001b[0;34m'label'\u001b[0m\u001b[0;34m,\u001b[0m \u001b[0mlabel\u001b[0m\u001b[0;34m)\u001b[0m\u001b[0;34m\u001b[0m\u001b[0m\n\u001b[0m\u001b[1;32m    671\u001b[0m \u001b[0;34m\u001b[0m\u001b[0m\n\u001b[1;32m    672\u001b[0m     \u001b[0;32mdef\u001b[0m \u001b[0mset_label_npy2d\u001b[0m\u001b[0;34m(\u001b[0m\u001b[0mself\u001b[0m\u001b[0;34m,\u001b[0m \u001b[0mlabel\u001b[0m\u001b[0;34m)\u001b[0m\u001b[0;34m:\u001b[0m\u001b[0;34m\u001b[0m\u001b[0m\n",
      "\u001b[0;32m~/py3_kernel/lib/python3.5/site-packages/xgboost/core.py\u001b[0m in \u001b[0;36mset_float_info\u001b[0;34m(self, field, data)\u001b[0m\n\u001b[1;32m    590\u001b[0m             \u001b[0mself\u001b[0m\u001b[0;34m.\u001b[0m\u001b[0mset_float_info_npy2d\u001b[0m\u001b[0;34m(\u001b[0m\u001b[0mfield\u001b[0m\u001b[0;34m,\u001b[0m \u001b[0mdata\u001b[0m\u001b[0;34m)\u001b[0m\u001b[0;34m\u001b[0m\u001b[0m\n\u001b[1;32m    591\u001b[0m             \u001b[0;32mreturn\u001b[0m\u001b[0;34m\u001b[0m\u001b[0m\n\u001b[0;32m--> 592\u001b[0;31m         \u001b[0mc_data\u001b[0m \u001b[0;34m=\u001b[0m \u001b[0mc_array\u001b[0m\u001b[0;34m(\u001b[0m\u001b[0mctypes\u001b[0m\u001b[0;34m.\u001b[0m\u001b[0mc_float\u001b[0m\u001b[0;34m,\u001b[0m \u001b[0mdata\u001b[0m\u001b[0;34m)\u001b[0m\u001b[0;34m\u001b[0m\u001b[0m\n\u001b[0m\u001b[1;32m    593\u001b[0m         _check_call(_LIB.XGDMatrixSetFloatInfo(self.handle,\n\u001b[1;32m    594\u001b[0m                                                \u001b[0mc_str\u001b[0m\u001b[0;34m(\u001b[0m\u001b[0mfield\u001b[0m\u001b[0;34m)\u001b[0m\u001b[0;34m,\u001b[0m\u001b[0;34m\u001b[0m\u001b[0m\n",
      "\u001b[0;32m~/py3_kernel/lib/python3.5/site-packages/xgboost/core.py\u001b[0m in \u001b[0;36mc_array\u001b[0;34m(ctype, values)\u001b[0m\n\u001b[1;32m    217\u001b[0m     \u001b[0;32mif\u001b[0m \u001b[0misinstance\u001b[0m\u001b[0;34m(\u001b[0m\u001b[0mvalues\u001b[0m\u001b[0;34m,\u001b[0m \u001b[0mnp\u001b[0m\u001b[0;34m.\u001b[0m\u001b[0mndarray\u001b[0m\u001b[0;34m)\u001b[0m \u001b[0;32mand\u001b[0m \u001b[0mvalues\u001b[0m\u001b[0;34m.\u001b[0m\u001b[0mdtype\u001b[0m\u001b[0;34m.\u001b[0m\u001b[0mitemsize\u001b[0m \u001b[0;34m==\u001b[0m \u001b[0mctypes\u001b[0m\u001b[0;34m.\u001b[0m\u001b[0msizeof\u001b[0m\u001b[0;34m(\u001b[0m\u001b[0mctype\u001b[0m\u001b[0;34m)\u001b[0m\u001b[0;34m:\u001b[0m\u001b[0;34m\u001b[0m\u001b[0m\n\u001b[1;32m    218\u001b[0m         \u001b[0;32mreturn\u001b[0m \u001b[0;34m(\u001b[0m\u001b[0mctype\u001b[0m \u001b[0;34m*\u001b[0m \u001b[0mlen\u001b[0m\u001b[0;34m(\u001b[0m\u001b[0mvalues\u001b[0m\u001b[0;34m)\u001b[0m\u001b[0;34m)\u001b[0m\u001b[0;34m.\u001b[0m\u001b[0mfrom_buffer_copy\u001b[0m\u001b[0;34m(\u001b[0m\u001b[0mvalues\u001b[0m\u001b[0;34m)\u001b[0m\u001b[0;34m\u001b[0m\u001b[0m\n\u001b[0;32m--> 219\u001b[0;31m     \u001b[0;32mreturn\u001b[0m \u001b[0;34m(\u001b[0m\u001b[0mctype\u001b[0m \u001b[0;34m*\u001b[0m \u001b[0mlen\u001b[0m\u001b[0;34m(\u001b[0m\u001b[0mvalues\u001b[0m\u001b[0;34m)\u001b[0m\u001b[0;34m)\u001b[0m\u001b[0;34m(\u001b[0m\u001b[0;34m*\u001b[0m\u001b[0mvalues\u001b[0m\u001b[0;34m)\u001b[0m\u001b[0;34m\u001b[0m\u001b[0m\n\u001b[0m\u001b[1;32m    220\u001b[0m \u001b[0;34m\u001b[0m\u001b[0m\n\u001b[1;32m    221\u001b[0m \u001b[0;34m\u001b[0m\u001b[0m\n",
      "\u001b[0;31mTypeError\u001b[0m: a float is required"
     ]
    }
   ],
   "source": [
    "import os\n",
    "import numpy as np\n",
    "import keras.backend as K\n",
    "from keras.wrappers.scikit_learn import KerasRegressor\n",
    "from sklearn.model_selection import train_test_split\n",
    "from sklearn import metrics\n",
    "from sklearn.feature_selection import RFE\n",
    "from sklearn import preprocessing\n",
    "from sklearn.linear_model import LinearRegression\n",
    "import matplotlib.pyplot as plt\n",
    "import torch\n",
    "import torch.nn as nn\n",
    "from torch.autograd import Variable\n",
    "from sklearn.preprocessing import StandardScaler,Normalizer\n",
    "import pandas as pd\n",
    "import sklearn.svm as svm\n",
    "from imblearn.datasets import make_imbalance\n",
    "from imblearn.over_sampling import RandomOverSampler\n",
    "from sklearn.metrics import confusion_matrix, r2_score\n",
    "from sklearn.metrics import mean_squared_error\n",
    "import xgboost\n",
    "\n",
    "def categorize(array):\n",
    "    #print(array)\n",
    "    new_array=np.zeros_like(array)\n",
    "    for i in range(0,array.shape[0]): \n",
    "        k=array[i]\n",
    "        if k>0.33:\n",
    "            new_array[i,:]=1\n",
    "        else: \n",
    "            new_array[i,:]=0\n",
    "    return new_array\n",
    "#df = pd.DataFrame(columns=['Parameter','fold1','fold2','fold3','fol4'])\n",
    "df = pd.DataFrame(columns=['Parameter','fold1','fold2','fold3','fol4'])\n",
    "#for i in range(1,80):\n",
    "for i in range(1,25):\n",
    "\n",
    "    print(i)\n",
    "    MSE = np.array('mse')\n",
    "    Accuracy = np.array('Acc')\n",
    "    r2_sc = np.array('r2_score')\n",
    "    \n",
    "    for fold in range(1,5):\n",
    "        features = pd.read_csv('ICHFeatures.csv',header=0)\n",
    "        OS_train = pd.read_excel(r'GroundTruth.xlsx', sheet_name=\"Fold\"+str(fold)+'_Seg',header = 0, dtype=str)\n",
    "        OS_train[\"ID\"] = OS_train[\"ID\"].str.zfill(3)\n",
    "        #OS_train.columns = ['ID','OS']\n",
    "        OS_valid = pd.read_excel(r'GroundTruth.xlsx', sheet_name=\"Fold\"+str(fold)+'_Val',header = 0, dtype=str)\n",
    "        OS_valid[\"ID\"] = OS_valid[\"ID\"].str.zfill(3)\n",
    "        #OS_valid.columns = ['ID','OS']\n",
    "        features['ID']=features['ID'].str.replace('ct1','')\n",
    "        train = pd.merge(features, OS_train, how='right', on='ID')\n",
    "        test =  pd.merge(features, OS_valid, how='right', on='ID')\n",
    "        norm_wihtout = [col for col in train.columns if col not in ['ID','Delta','Class']]\n",
    "        #norm_valid = [col for col in test.columns if col not in ['ID','GCS','Onset','OS']]\n",
    "        scaler = StandardScaler()\n",
    "        train_ss = scaler.fit_transform(train[norm_wihtout])\n",
    "        test_ss = scaler.transform(test[norm_wihtout])\n",
    "        train[norm_wihtout] = train_ss\n",
    "        test[norm_wihtout] = test_ss\n",
    "        #train = train.assign(norm_train.values = train_ss)\n",
    "        col_withoutID = [col for col in train.columns if col not in ['ID','Class']]\n",
    "        ros = RandomOverSampler(random_state=42)\n",
    "        X_res, y_res = ros.fit_resample(train[col_withoutID], train['Class'].values.astype(float))\n",
    "        X_withDelta = pd.DataFrame(X_res,columns = col_withoutID)\n",
    "        train_class = pd.DataFrame(y_res, columns = ['Class'])\n",
    "        col_withoutDelta = [col for col in X_withDelta.columns if col not in ['Delta']]\n",
    "        train_X = X_withDelta[col_withoutDelta]\n",
    "        train_y = X_withDelta[\"Delta\"]\n",
    "        num_features = i\n",
    "        estimator = xgboost.XGBRegressor(objective='reg:linear', n_estimators=10, seed=123)\n",
    "        #print(num_features)\n",
    "        rfe=RFE(estimator,  n_features_to_select=num_features,step=1)\n",
    "        rfe.fit(train_X,train_y)\n",
    "        ranking_RFE=rfe.ranking_\n",
    "        indices=np.where(ranking_RFE==1)\n",
    "        indices = list(indices[0])\n",
    "        data_RFE=train_X.iloc[:,indices]\n",
    "        valid_RFE = test[col_withoutID].iloc[:,indices]\n",
    "        #print(data_RFE.columns)\n",
    "        model = xgboost.XGBRegressor(n_estimators=100, learning_rate=0.08)\n",
    "        model.fit(data_RFE, train_y)\n",
    "\n",
    "        Y_pred=model.predict(valid_RFE).ravel()\n",
    "        #acc=metrics.accuracy_score(test['Delta'].values,Y_pred)\n",
    "        #print(\"accuracy score = \"+str(acc)) \n",
    "        mse = mean_squared_error(test['Delta'].values, Y_pred)\n",
    "        MSE = np.append(MSE,mse)\n",
    "        r2_s = r2_score(test['Delta'].values, Y_pred)\n",
    "        #print(mse)\n",
    "        #print(r2_s)\n",
    "        r2_sc = np.append(r2_sc,r2_s)\n",
    "    #     con_matrix = confusion_matrix(test['Delta'].values.tolist(),Y_pred.tolist())\n",
    "    #     TN,FP,FN,TP = con_matrix.ravel()\n",
    "    #     # Sensitivity, hit rate, recall, or true positive rate\n",
    "    #     TPR = TP/(TP+FN)\n",
    "    #     # Specificity or true negative rate\n",
    "    #     TNR = TN/(TN+FP) \n",
    "    #     #Precision\n",
    "    #     PPV = TP/(TP+FP)\n",
    "    #     Prec = np.append(Prec,PPV)\n",
    "    #     Sens = np.append(Sens,TPR)\n",
    "    #     Spec = np.append(Spec,TNR)\n",
    "        predictions = categorize(Y_pred.reshape(20,1))\n",
    "        #print(predictions)\n",
    "        y_test_class = categorize(pd.to_numeric(test['Delta']).values.reshape(20,1))#.reshape(20,1)\n",
    "        # evaluate predictions\n",
    "        accuracy = metrics.accuracy_score(y_test_class, predictions)\n",
    "        #print(\"Accuracy: %.2f%%\" % (accuracy * 100.0))\n",
    "        Accuracy = np.append(Accuracy,accuracy)\n",
    "        #best=metrics.mean_squared_error(y_test*1000, y_pred*1000) \n",
    "        #print(best)\n",
    "    MSE = pd.DataFrame(data = MSE.reshape(1,5),columns = df.columns)\n",
    "    ACC = pd.DataFrame(data = Accuracy.reshape(1,5),columns = df.columns)\n",
    "    R2_Score = pd.DataFrame(data = r2_sc.reshape(1,5),columns = df.columns)\n",
    "    # Spec = pd.DataFrame(data = Spec.reshape(1,5),columns = df.columns)\n",
    "    # df = df.append(Accuracy)\n",
    "    df = df.append(MSE)\n",
    "    df = df.append(ACC)\n",
    "    df= df.append(R2_Score)\n",
    "    #del Accuracy\n",
    "    print(np.average(Accuracy[1:].astype(np.float)))"
   ]
  },
  {
   "cell_type": "code",
   "execution_count": null,
   "metadata": {},
   "outputs": [],
   "source": [
    "train_y"
   ]
  },
  {
   "cell_type": "code",
   "execution_count": null,
   "metadata": {},
   "outputs": [],
   "source": [
    "pd.to_numeric(test['Delta']).values.size"
   ]
  },
  {
   "cell_type": "code",
   "execution_count": null,
   "metadata": {},
   "outputs": [],
   "source": []
  }
 ],
 "metadata": {
  "kernelspec": {
   "display_name": "py3",
   "language": "python",
   "name": "py3"
  }
 },
 "nbformat": 4,
 "nbformat_minor": 2
}
