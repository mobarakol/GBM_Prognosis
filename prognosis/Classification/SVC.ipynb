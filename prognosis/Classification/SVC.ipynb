{
 "cells": [
  {
   "cell_type": "code",
   "execution_count": 2,
   "metadata": {
    "scrolled": true
   },
   "outputs": [
    {
     "name": "stdout",
     "output_type": "stream",
     "text": [
      "24\n",
      "Index(['Age', 'GCS', 'Onset', 'CTA', 'Centroid1', 'Centroid2', 'Centroid3',\n",
      "       'MajorAxisLength', 'FirstAxis1', 'FirstAxis2', 'FirstAxis3',\n",
      "       'SecondAxis2', 'SecondAxis3', 'ThirdAxis2', 'ThirdAxis3', 'Eigen2',\n",
      "       'kurtosis', 'histogram', 'bb1', 'bb3', 'entropy', 'f1', 'f2', 'f3'],\n",
      "      dtype='object')\n"
     ]
    },
    {
     "name": "stderr",
     "output_type": "stream",
     "text": [
      "/home/navodini/py3_kernel/lib/python3.5/site-packages/sklearn/utils/validation.py:744: DataConversionWarning: A column-vector y was passed when a 1d array was expected. Please change the shape of y to (n_samples, ), for example using ravel().\n",
      "  y = column_or_1d(y, warn=True)\n",
      "/home/navodini/py3_kernel/lib/python3.5/site-packages/sklearn/utils/validation.py:744: DataConversionWarning: A column-vector y was passed when a 1d array was expected. Please change the shape of y to (n_samples, ), for example using ravel().\n",
      "  y = column_or_1d(y, warn=True)\n"
     ]
    },
    {
     "name": "stdout",
     "output_type": "stream",
     "text": [
      "accuracy score = 0.7\n",
      "24\n"
     ]
    },
    {
     "name": "stderr",
     "output_type": "stream",
     "text": [
      "/home/navodini/py3_kernel/lib/python3.5/site-packages/sklearn/utils/validation.py:744: DataConversionWarning: A column-vector y was passed when a 1d array was expected. Please change the shape of y to (n_samples, ), for example using ravel().\n",
      "  y = column_or_1d(y, warn=True)\n",
      "/home/navodini/py3_kernel/lib/python3.5/site-packages/sklearn/utils/validation.py:744: DataConversionWarning: A column-vector y was passed when a 1d array was expected. Please change the shape of y to (n_samples, ), for example using ravel().\n",
      "  y = column_or_1d(y, warn=True)\n",
      "/home/navodini/py3_kernel/lib/python3.5/site-packages/sklearn/utils/validation.py:744: DataConversionWarning: A column-vector y was passed when a 1d array was expected. Please change the shape of y to (n_samples, ), for example using ravel().\n",
      "  y = column_or_1d(y, warn=True)\n",
      "/home/navodini/py3_kernel/lib/python3.5/site-packages/sklearn/utils/validation.py:744: DataConversionWarning: A column-vector y was passed when a 1d array was expected. Please change the shape of y to (n_samples, ), for example using ravel().\n",
      "  y = column_or_1d(y, warn=True)\n"
     ]
    },
    {
     "name": "stdout",
     "output_type": "stream",
     "text": [
      "Index(['Age', 'GCS', 'Onset', 'CTA', 'MinorAxisLength', 'FirstAxis1',\n",
      "       'FirstAxis2', 'FirstAxis3', 'SecondAxis1', 'SecondAxis3', 'ThirdAxis1',\n",
      "       'ThirdAxis2', 'ThirdAxis3', 'Eigen2', 'Eigen3', 'kurtosis', 'bb5',\n",
      "       'bb6', 'extent', 'diameter', 'f1', 'f3', 'f4', 'f5'],\n",
      "      dtype='object')\n",
      "accuracy score = 0.6\n",
      "24\n",
      "Index(['Age', 'CTA', 'Centroid3', 'MajorAxisLength', 'FirstAxis1',\n",
      "       'FirstAxis2', 'FirstAxis3', 'SecondAxis1', 'SecondAxis2', 'SecondAxis3',\n",
      "       'ThirdAxis1', 'ThirdAxis2', 'Eigen3', 'kurtosis', 'histogram', 'bb1',\n",
      "       'bb6', 'extent', 'diameter', 'solidity', 'f1', 'f2', 'f3', 'f5'],\n",
      "      dtype='object')\n",
      "accuracy score = 0.8\n",
      "24\n",
      "Index(['Age', 'GCS', 'CTA', 'Centroid1', 'FirstAxis1', 'FirstAxis2',\n",
      "       'FirstAxis3', 'SecondAxis1', 'SecondAxis2', 'SecondAxis3', 'ThirdAxis1',\n",
      "       'ThirdAxis2', 'ThirdAxis3', 'Eigen2', 'Eigen3', 'kurtosis', 'histogram',\n",
      "       'bb1', 'bb2', 'bb4', 'f1', 'f3', 'f4', 'f5'],\n",
      "      dtype='object')\n",
      "accuracy score = 0.75\n"
     ]
    },
    {
     "name": "stderr",
     "output_type": "stream",
     "text": [
      "/home/navodini/py3_kernel/lib/python3.5/site-packages/sklearn/utils/validation.py:744: DataConversionWarning: A column-vector y was passed when a 1d array was expected. Please change the shape of y to (n_samples, ), for example using ravel().\n",
      "  y = column_or_1d(y, warn=True)\n",
      "/home/navodini/py3_kernel/lib/python3.5/site-packages/sklearn/utils/validation.py:744: DataConversionWarning: A column-vector y was passed when a 1d array was expected. Please change the shape of y to (n_samples, ), for example using ravel().\n",
      "  y = column_or_1d(y, warn=True)\n"
     ]
    }
   ],
   "source": [
    "import os\n",
    "import numpy as np\n",
    "import keras.backend as K\n",
    "from keras.wrappers.scikit_learn import KerasRegressor\n",
    "from sklearn.model_selection import train_test_split\n",
    "from sklearn import metrics\n",
    "from sklearn.feature_selection import RFE\n",
    "from sklearn import preprocessing\n",
    "from sklearn.linear_model import LinearRegression\n",
    "import matplotlib.pyplot as plt\n",
    "import torch\n",
    "import torch.nn as nn\n",
    "from torch.autograd import Variable\n",
    "from sklearn.preprocessing import StandardScaler,Normalizer\n",
    "import pandas as pd\n",
    "import sklearn.svm as svm\n",
    "from imblearn.datasets import make_imbalance\n",
    "from imblearn.over_sampling import RandomOverSampler\n",
    "from sklearn.metrics import confusion_matrix\n",
    "\n",
    "df = pd.DataFrame(columns=['Parameter','fold1','fold2','fold3','fol4'])\n",
    "#for i in range(1,80):\n",
    "#for i in range(1,25):\n",
    "Accuracy = np.array('Accuracy')\n",
    "Prec = np.array('Precision')\n",
    "Sens = np.array('Sensitivity')\n",
    "Spec = np.array('Specificity')\n",
    "\n",
    "for fold in range(1,5):\n",
    "    features = pd.read_csv('ICHFeatures.csv',header=0)\n",
    "    OS_train = pd.read_csv('Fold'+str(fold)+'/Train_dir.txt',header = None, dtype=str)\n",
    "    OS_train.columns = ['ID','OS']\n",
    "    OS_valid = pd.read_csv('Fold'+str(fold)+'/Val_Dir.txt',header = None, dtype=str)\n",
    "    OS_valid.columns = ['ID','OS']\n",
    "    features['ID']=features['ID'].str.replace('ct1','')\n",
    "    train = pd.merge(features, OS_train, how='right', on='ID')\n",
    "    test =  pd.merge(features, OS_valid, how='right', on='ID')\n",
    "    norm_wihtout = [col for col in train.columns if col not in ['ID','GCS','Onset','OS']]\n",
    "    #norm_valid = [col for col in test.columns if col not in ['ID','GCS','Onset','OS']]\n",
    "    scaler = StandardScaler()\n",
    "    train_ss = scaler.fit_transform(train[norm_wihtout])\n",
    "    test_ss = scaler.transform(test[norm_wihtout])\n",
    "    train[norm_wihtout] = train_ss\n",
    "    test[norm_wihtout] = test_ss\n",
    "    #train = train.assign(norm_train.values = train_ss)\n",
    "    col_withoutID = [col for col in train.columns if col not in ['ID','OS']]\n",
    "    ros = RandomOverSampler(random_state=42)\n",
    "    X_res, y_res = ros.fit_resample(train[col_withoutID], train['OS'].values.astype(int))\n",
    "    train_X = pd.DataFrame(X_res,columns = col_withoutID)\n",
    "    train_y = pd.DataFrame(y_res, columns = ['OS'])\n",
    "    num_features = 24\n",
    "    estimator = svm.SVC(kernel=\"linear\", C=1) #\n",
    "    print(num_features)\n",
    "    rfe=RFE(estimator,  n_features_to_select=num_features,step=1)\n",
    "    rfe.fit(train_X,train_y)\n",
    "    ranking_RFE=rfe.ranking_\n",
    "    indices=np.where(ranking_RFE==1)\n",
    "    indices = list(indices[0])\n",
    "    data_RFE=train_X.iloc[:,indices]\n",
    "    valid_RFE = test[col_withoutID].iloc[:,indices]\n",
    "    print(data_RFE.columns)\n",
    "    model = svm.SVC(kernel=\"linear\", C=1) #LinearRegression()\n",
    "    model.fit(data_RFE, train_y)\n",
    "\n",
    "    Y_pred=model.predict(valid_RFE).ravel()\n",
    "    acc=metrics.accuracy_score(test['OS'].values.astype(int),Y_pred)\n",
    "    print(\"accuracy score = \"+str(acc)) \n",
    "    Accuracy = np.append(Accuracy,acc)\n",
    "    con_matrix = confusion_matrix(test['OS'].values.astype(int).tolist(),Y_pred.tolist())\n",
    "    TN,FP,FN,TP = con_matrix.ravel()\n",
    "    # Sensitivity, hit rate, recall, or true positive rate\n",
    "    TPR = TP/(TP+FN)\n",
    "    # Specificity or true negative rate\n",
    "    TNR = TN/(TN+FP) \n",
    "    #Precision\n",
    "    PPV = TP/(TP+FP)\n",
    "    Prec = np.append(Prec,PPV)\n",
    "    Sens = np.append(Sens,TPR)\n",
    "    Spec = np.append(Spec,TNR)\n",
    "    \n",
    "Accuracy = pd.DataFrame(data = Accuracy.reshape(1,5),columns = df.columns)\n",
    "Prec = pd.DataFrame(data = Prec.reshape(1,5),columns = df.columns)\n",
    "Sens = pd.DataFrame(data = Sens.reshape(1,5),columns = df.columns)\n",
    "Spec = pd.DataFrame(data = Spec.reshape(1,5),columns = df.columns)\n",
    "df = df.append(Accuracy)\n",
    "df = df.append(Prec)\n",
    "df = df.append(Sens)\n",
    "df= df.append(Spec)\n",
    "#del Accuracy"
   ]
  },
  {
   "cell_type": "code",
   "execution_count": 3,
   "metadata": {},
   "outputs": [
    {
     "data": {
      "text/html": [
       "<div>\n",
       "<style scoped>\n",
       "    .dataframe tbody tr th:only-of-type {\n",
       "        vertical-align: middle;\n",
       "    }\n",
       "\n",
       "    .dataframe tbody tr th {\n",
       "        vertical-align: top;\n",
       "    }\n",
       "\n",
       "    .dataframe thead th {\n",
       "        text-align: right;\n",
       "    }\n",
       "</style>\n",
       "<table border=\"1\" class=\"dataframe\">\n",
       "  <thead>\n",
       "    <tr style=\"text-align: right;\">\n",
       "      <th></th>\n",
       "      <th>Parameter</th>\n",
       "      <th>fold1</th>\n",
       "      <th>fold2</th>\n",
       "      <th>fold3</th>\n",
       "      <th>fol4</th>\n",
       "    </tr>\n",
       "  </thead>\n",
       "  <tbody>\n",
       "    <tr>\n",
       "      <th>0</th>\n",
       "      <td>Accuracy</td>\n",
       "      <td>0.7</td>\n",
       "      <td>0.6</td>\n",
       "      <td>0.8</td>\n",
       "      <td>0.75</td>\n",
       "    </tr>\n",
       "    <tr>\n",
       "      <th>0</th>\n",
       "      <td>Precision</td>\n",
       "      <td>0.0</td>\n",
       "      <td>0.2857142857142857</td>\n",
       "      <td>0.6666666666666666</td>\n",
       "      <td>0.5</td>\n",
       "    </tr>\n",
       "    <tr>\n",
       "      <th>0</th>\n",
       "      <td>Sensitivity</td>\n",
       "      <td>0.0</td>\n",
       "      <td>0.4</td>\n",
       "      <td>0.4</td>\n",
       "      <td>0.4</td>\n",
       "    </tr>\n",
       "    <tr>\n",
       "      <th>0</th>\n",
       "      <td>Specificity</td>\n",
       "      <td>0.9333333333333333</td>\n",
       "      <td>0.6666666666666666</td>\n",
       "      <td>0.9333333333333333</td>\n",
       "      <td>0.8666666666666667</td>\n",
       "    </tr>\n",
       "  </tbody>\n",
       "</table>\n",
       "</div>"
      ],
      "text/plain": [
       "     Parameter               fold1               fold2               fold3  \\\n",
       "0     Accuracy                 0.7                 0.6                 0.8   \n",
       "0    Precision                 0.0  0.2857142857142857  0.6666666666666666   \n",
       "0  Sensitivity                 0.0                 0.4                 0.4   \n",
       "0  Specificity  0.9333333333333333  0.6666666666666666  0.9333333333333333   \n",
       "\n",
       "                 fol4  \n",
       "0                0.75  \n",
       "0                 0.5  \n",
       "0                 0.4  \n",
       "0  0.8666666666666667  "
      ]
     },
     "execution_count": 3,
     "metadata": {},
     "output_type": "execute_result"
    }
   ],
   "source": [
    "df"
   ]
  },
  {
   "cell_type": "code",
   "execution_count": null,
   "metadata": {
    "scrolled": true
   },
   "outputs": [],
   "source": [
    "df =pd.concat([df,df.iloc[:,1:].mean(axis=1)],axis = 1)\n",
    "df.columns = ['num_features','fold1','fold2','fold3','fol4','Average']"
   ]
  },
  {
   "cell_type": "code",
   "execution_count": 4,
   "metadata": {},
   "outputs": [],
   "source": [
    "df.to_csv('SVM_results.csv')"
   ]
  },
  {
   "cell_type": "code",
   "execution_count": null,
   "metadata": {},
   "outputs": [],
   "source": [
    "from scipy.stats import pearsonr\n",
    "corr, _ = pearsonr(train['kurtosis'].astype(int), train['OS'].astype(int))\n",
    "print('Pearsons correlation: %.3f' % corr)"
   ]
  },
  {
   "cell_type": "code",
   "execution_count": null,
   "metadata": {},
   "outputs": [],
   "source": [
    "from scipy.stats import pearsonr\n",
    "corr, _ = pearsonr(train['SecondAxis2'].astype(int), train['OS'].astype(int))\n",
    "print('Pearsons correlation: %.3f' % corr)"
   ]
  },
  {
   "cell_type": "code",
   "execution_count": null,
   "metadata": {},
   "outputs": [],
   "source": [
    "corr, _ = pearsonr(train['ThirdAxis1'].astype(int), train['OS'].astype(int))\n",
    "print('Pearsons correlation: %.3f' % corr)"
   ]
  },
  {
   "cell_type": "code",
   "execution_count": null,
   "metadata": {},
   "outputs": [],
   "source": [
    "corr, _ = pearsonr(train['Age'].astype(int), train['OS'].astype(int))\n",
    "print('Pearsons correlation: %.3f' % corr)"
   ]
  },
  {
   "cell_type": "code",
   "execution_count": null,
   "metadata": {
    "scrolled": true
   },
   "outputs": [],
   "source": [
    "import shap\n",
    "import sklearn.svm as svm\n",
    " \n"
   ]
  },
  {
   "cell_type": "code",
   "execution_count": null,
   "metadata": {},
   "outputs": [],
   "source": [
    "print(Y_pred)\n",
    "print(test['OS'].values)"
   ]
  },
  {
   "cell_type": "code",
   "execution_count": null,
   "metadata": {},
   "outputs": [],
   "source": [
    "from sklearn.metrics import confusion_matrix\n",
    "confusion_matrix = confusion_matrix(test['OS'].values,Y_pred)\n",
    "# FP = confusion_matrix.sum(axis=0) - np.diag(confusion_matrix)  \n",
    "# FN = confusion_matrix.sum(axis=1) - np.diag(confusion_matrix)\n",
    "# TP = np.diag(confusion_matrix)\n",
    "# TN = confusion_matrix.sum() - (FP + FN + TP)\n",
    "\n",
    "TN,FP,FN,TP = confusion_matrix.ravel()\n",
    "# Sensitivity, hit rate, recall, or true positive rate\n",
    "TPR = TP/(TP+FN)\n",
    "# Specificity or true negative rate\n",
    "TNR = TN/(TN+FP) \n",
    "#Precision\n",
    "PPV = TP/(TP+FP)\n",
    "\n",
    "print('Sensitivity ='+ str(TPR))\n",
    "print('Specificity = ' +str(TNR))\n",
    "print('Precision = '+str(PPV))"
   ]
  },
  {
   "cell_type": "code",
   "execution_count": null,
   "metadata": {},
   "outputs": [],
   "source": [
    "print(confusion_matrix)"
   ]
  },
  {
   "cell_type": "code",
   "execution_count": null,
   "metadata": {},
   "outputs": [],
   "source": [
    "print(FP)"
   ]
  },
  {
   "cell_type": "code",
   "execution_count": null,
   "metadata": {},
   "outputs": [],
   "source": [
    "import shap\n",
    "explainer = shap.LinearExplainer(model, data_RFE, feature_dependence=\"independent\")\n",
    "shap_values = explainer.shap_values(data_RFE)\n",
    "shap.initjs()\n",
    "# plot the SHAP values for the Setosa output of the first instance\n",
    "shap.summary_plot(shap_values, data_RFE.iloc[:,:], feature_names=data_RFE.columns,show=False)\n",
    "plt.savefig('SVM_fold4.png')"
   ]
  },
  {
   "cell_type": "code",
   "execution_count": null,
   "metadata": {},
   "outputs": [],
   "source": []
  }
 ],
 "metadata": {
  "kernelspec": {
   "display_name": "py3",
   "language": "python",
   "name": "py3"
  }
 },
 "nbformat": 4,
 "nbformat_minor": 2
}
