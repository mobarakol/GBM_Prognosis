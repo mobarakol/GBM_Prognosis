{
 "cells": [
  {
   "cell_type": "code",
   "execution_count": null,
   "metadata": {
    "scrolled": true
   },
   "outputs": [],
   "source": [
    "import os\n",
    "import numpy as np\n",
    "import keras.backend as K\n",
    "from keras.wrappers.scikit_learn import KerasRegressor\n",
    "from sklearn.model_selection import train_test_split\n",
    "from sklearn import metrics\n",
    "from sklearn.feature_selection import RFE\n",
    "from sklearn import preprocessing\n",
    "from sklearn.linear_model import LinearRegression\n",
    "import matplotlib.pyplot as plt\n",
    "import torch\n",
    "import torch.nn as nn\n",
    "from torch.autograd import Variable\n",
    "from sklearn.preprocessing import StandardScaler,Normalizer\n",
    "import pandas as pd\n",
    "from sklearn.linear_model import LogisticRegression\n",
    "from imblearn.datasets import make_imbalance\n",
    "from imblearn.over_sampling import RandomOverSampler\n",
    "\n",
    "def catergorize(array):\n",
    "    new_array=np.zeros_like(array)\n",
    "    #print(array.values)\n",
    "    for i in range(0,array.shape[0]): \n",
    "        k=array[i]\n",
    "        #print(k)\n",
    "        if k>0.45:\n",
    "            new_array[i,:]=2\n",
    "        elif 0.3<k<0.45 :\n",
    "            new_array[i,:]=1\n",
    "        else: \n",
    "            new_array[i,:]=0\n",
    "    return new_array\n",
    "\n",
    "#for i in range(1,80):\n",
    "#for i in range(1,100):    \n",
    "features = pd.read_csv('ICHFeatures.csv',header=0)\n",
    "OS_train = pd.read_csv('Fold3/Train_dir.txt',header = None, dtype=str)\n",
    "OS_train.columns = ['ID','OS']\n",
    "OS_valid = pd.read_csv('Fold3/Val_Dir.txt',header = None, dtype=str)\n",
    "OS_valid.columns = ['ID','OS']\n",
    "features['ID']=features['ID'].str.replace('ct1','')\n",
    "train = pd.merge(features, OS_train, how='right', on='ID')\n",
    "test =  pd.merge(features, OS_valid, how='right', on='ID')\n",
    "norm_wihtout = [col for col in train.columns if col not in ['ID','GCS','Onset','OS']]\n",
    "#norm_valid = [col for col in test.columns if col not in ['ID','GCS','Onset','OS']]\n",
    "scaler = StandardScaler()\n",
    "train_ss = scaler.fit_transform(train[norm_wihtout])\n",
    "test_ss = scaler.transform(test[norm_wihtout])\n",
    "train[norm_wihtout] = train_ss\n",
    "test[norm_wihtout] = test_ss\n",
    "#train = train.assign(norm_train.values = train_ss)\n",
    "col_withoutID = [col for col in train.columns if col not in ['ID','OS']]"
   ]
  },
  {
   "cell_type": "code",
   "execution_count": 1,
   "metadata": {},
   "outputs": [
    {
     "name": "stderr",
     "output_type": "stream",
     "text": [
      "Using TensorFlow backend.\n"
     ]
    },
    {
     "name": "stdout",
     "output_type": "stream",
     "text": [
      "18\n"
     ]
    },
    {
     "name": "stderr",
     "output_type": "stream",
     "text": [
      "/home/navodini/py3_kernel/lib/python3.5/site-packages/sklearn/utils/validation.py:744: DataConversionWarning: A column-vector y was passed when a 1d array was expected. Please change the shape of y to (n_samples, ), for example using ravel().\n",
      "  y = column_or_1d(y, warn=True)\n"
     ]
    },
    {
     "name": "stdout",
     "output_type": "stream",
     "text": [
      "Index(['Age', 'GCS', 'Onset', 'CTA', 'Centroid1', 'MajorAxisLength',\n",
      "       'FirstAxis1', 'FirstAxis3', 'SecondAxis3', 'ThirdAxis1', 'ThirdAxis2',\n",
      "       'ThirdAxis3', 'Eigen2', 'kurtosis', 'histogram', 'bb1', 'bb3', 'f3'],\n",
      "      dtype='object')\n",
      "accuracy score = 0.65\n",
      "18\n"
     ]
    },
    {
     "name": "stderr",
     "output_type": "stream",
     "text": [
      "/home/navodini/py3_kernel/lib/python3.5/site-packages/sklearn/utils/validation.py:744: DataConversionWarning: A column-vector y was passed when a 1d array was expected. Please change the shape of y to (n_samples, ), for example using ravel().\n",
      "  y = column_or_1d(y, warn=True)\n",
      "/home/navodini/py3_kernel/lib/python3.5/site-packages/sklearn/utils/validation.py:744: DataConversionWarning: A column-vector y was passed when a 1d array was expected. Please change the shape of y to (n_samples, ), for example using ravel().\n",
      "  y = column_or_1d(y, warn=True)\n"
     ]
    },
    {
     "name": "stdout",
     "output_type": "stream",
     "text": [
      "Index(['Age', 'Onset', 'CTA', 'FirstAxis3', 'SecondAxis1', 'SecondAxis3',\n",
      "       'ThirdAxis1', 'ThirdAxis2', 'ThirdAxis3', 'kurtosis', 'bb4', 'bb6',\n",
      "       'extent', 'diameter', 'f1', 'f3', 'f4', 'f5'],\n",
      "      dtype='object')\n",
      "accuracy score = 0.6\n",
      "18\n"
     ]
    },
    {
     "name": "stderr",
     "output_type": "stream",
     "text": [
      "/home/navodini/py3_kernel/lib/python3.5/site-packages/sklearn/utils/validation.py:744: DataConversionWarning: A column-vector y was passed when a 1d array was expected. Please change the shape of y to (n_samples, ), for example using ravel().\n",
      "  y = column_or_1d(y, warn=True)\n",
      "/home/navodini/py3_kernel/lib/python3.5/site-packages/sklearn/utils/validation.py:744: DataConversionWarning: A column-vector y was passed when a 1d array was expected. Please change the shape of y to (n_samples, ), for example using ravel().\n",
      "  y = column_or_1d(y, warn=True)\n"
     ]
    },
    {
     "name": "stdout",
     "output_type": "stream",
     "text": [
      "Index(['Age', 'CTA', 'FirstAxis2', 'FirstAxis3', 'SecondAxis1', 'SecondAxis2',\n",
      "       'SecondAxis3', 'ThirdAxis1', 'ThirdAxis2', 'ThirdAxis3', 'kurtosis',\n",
      "       'bb1', 'bb6', 'extent', 'solidity', 'f1', 'f5', 'f6'],\n",
      "      dtype='object')\n",
      "accuracy score = 0.75\n",
      "18\n"
     ]
    },
    {
     "name": "stderr",
     "output_type": "stream",
     "text": [
      "/home/navodini/py3_kernel/lib/python3.5/site-packages/sklearn/utils/validation.py:744: DataConversionWarning: A column-vector y was passed when a 1d array was expected. Please change the shape of y to (n_samples, ), for example using ravel().\n",
      "  y = column_or_1d(y, warn=True)\n",
      "/home/navodini/py3_kernel/lib/python3.5/site-packages/sklearn/utils/validation.py:744: DataConversionWarning: A column-vector y was passed when a 1d array was expected. Please change the shape of y to (n_samples, ), for example using ravel().\n",
      "  y = column_or_1d(y, warn=True)\n"
     ]
    },
    {
     "name": "stdout",
     "output_type": "stream",
     "text": [
      "Index(['Age', 'GCS', 'CTA', 'FirstAxis1', 'FirstAxis2', 'FirstAxis3',\n",
      "       'SecondAxis1', 'SecondAxis3', 'ThirdAxis1', 'ThirdAxis3', 'kurtosis',\n",
      "       'histogram', 'bb2', 'bb4', 'f1', 'f3', 'f4', 'f5'],\n",
      "      dtype='object')\n",
      "accuracy score = 0.75\n"
     ]
    },
    {
     "name": "stderr",
     "output_type": "stream",
     "text": [
      "/home/navodini/py3_kernel/lib/python3.5/site-packages/sklearn/utils/validation.py:744: DataConversionWarning: A column-vector y was passed when a 1d array was expected. Please change the shape of y to (n_samples, ), for example using ravel().\n",
      "  y = column_or_1d(y, warn=True)\n"
     ]
    }
   ],
   "source": [
    "import os\n",
    "import numpy as np\n",
    "import keras.backend as K\n",
    "from keras.wrappers.scikit_learn import KerasRegressor\n",
    "from sklearn.model_selection import train_test_split\n",
    "from sklearn import metrics\n",
    "from sklearn.feature_selection import RFE\n",
    "from sklearn import preprocessing\n",
    "from sklearn.linear_model import LinearRegression\n",
    "import matplotlib.pyplot as plt\n",
    "import torch\n",
    "import torch.nn as nn\n",
    "from torch.autograd import Variable\n",
    "from sklearn.preprocessing import StandardScaler,Normalizer\n",
    "import pandas as pd\n",
    "import sklearn.svm as svm\n",
    "from sklearn.linear_model import LogisticRegression\n",
    "from imblearn.datasets import make_imbalance\n",
    "from imblearn.over_sampling import RandomOverSampler\n",
    "from sklearn.metrics import confusion_matrix\n",
    "\n",
    "df = pd.DataFrame(columns=['num_features','fold1','fold2','fold3','fol4'])\n",
    "#for i in range(1,80):\n",
    "# for i in range(1,25):\n",
    "# Accuracy = np.array(i)\n",
    "Accuracy = np.array('Accuracy')\n",
    "Prec = np.array('Precision')\n",
    "Sens = np.array('Sensitivity')\n",
    "Spec = np.array('Specificity')\n",
    "\n",
    "for fold in range(1,5):\n",
    "    features = pd.read_csv('ICHFeatures.csv',header=0)\n",
    "    OS_train = pd.read_csv('Fold'+str(fold)+'/Train_dir.txt',header = None, dtype=str)\n",
    "    OS_train.columns = ['ID','OS']\n",
    "    OS_valid = pd.read_csv('Fold'+str(fold)+'/Val_Dir.txt',header = None, dtype=str)\n",
    "    OS_valid.columns = ['ID','OS']\n",
    "    features['ID']=features['ID'].str.replace('ct1','')\n",
    "    train = pd.merge(features, OS_train, how='right', on='ID')\n",
    "    test =  pd.merge(features, OS_valid, how='right', on='ID')\n",
    "    norm_wihtout = [col for col in train.columns if col not in ['ID','GCS','Onset','OS']]\n",
    "    #norm_valid = [col for col in test.columns if col not in ['ID','GCS','Onset','OS']]\n",
    "    scaler = StandardScaler()\n",
    "    train_ss = scaler.fit_transform(train[norm_wihtout])\n",
    "    test_ss = scaler.transform(test[norm_wihtout])\n",
    "    train[norm_wihtout] = train_ss\n",
    "    test[norm_wihtout] = test_ss\n",
    "    #train = train.assign(norm_train.values = train_ss)\n",
    "    col_withoutID = [col for col in train.columns if col not in ['ID','OS']]\n",
    "    ros = RandomOverSampler(random_state=42)\n",
    "    X_res, y_res = ros.fit_resample(train[col_withoutID], train['OS'].values.astype(int))\n",
    "    train_X = pd.DataFrame(X_res,columns = col_withoutID)\n",
    "    train_y = pd.DataFrame(y_res, columns = ['OS'])\n",
    "    num_features = 18\n",
    "    estimator = LogisticRegression(random_state=0)\n",
    "    print(num_features)\n",
    "    rfe=RFE(estimator,  n_features_to_select=num_features,step=1)\n",
    "    rfe.fit(train_X,train_y)\n",
    "    ranking_RFE=rfe.ranking_\n",
    "    indices=np.where(ranking_RFE==1)\n",
    "    indices = list(indices[0])\n",
    "    data_RFE=train_X.iloc[:,indices]\n",
    "    valid_RFE = test[col_withoutID].iloc[:,indices]\n",
    "    print(data_RFE.columns)\n",
    "    model = LogisticRegression(random_state=0)\n",
    "    model.fit(data_RFE, train_y)\n",
    "\n",
    "    Y_pred=model.predict(valid_RFE).ravel()\n",
    "    acc=metrics.accuracy_score(test['OS'].values.astype(int),Y_pred)\n",
    "    print(\"accuracy score = \"+str(acc)) \n",
    "    Accuracy = np.append(Accuracy,acc)\n",
    "    con_matrix = confusion_matrix(test['OS'].values.astype(int).tolist(),Y_pred.tolist())\n",
    "    TN,FP,FN,TP = con_matrix.ravel()\n",
    "    # Sensitivity, hit rate, recall, or true positive rate\n",
    "    TPR = TP/(TP+FN)\n",
    "    # Specificity or true negative rate\n",
    "    TNR = TN/(TN+FP) \n",
    "    #Precision\n",
    "    PPV = TP/(TP+FP)\n",
    "    Prec = np.append(Prec,PPV)\n",
    "    Sens = np.append(Sens,TPR)\n",
    "    Spec = np.append(Spec,TNR)\n",
    "    \n",
    "Accuracy = pd.DataFrame(data = Accuracy.reshape(1,5),columns = df.columns)\n",
    "Prec = pd.DataFrame(data = Prec.reshape(1,5),columns = df.columns)\n",
    "Sens = pd.DataFrame(data = Sens.reshape(1,5),columns = df.columns)\n",
    "Spec = pd.DataFrame(data = Spec.reshape(1,5),columns = df.columns)\n",
    "df = df.append(Accuracy)\n",
    "df = df.append(Prec)\n",
    "df = df.append(Sens)\n",
    "df= df.append(Spec)"
   ]
  },
  {
   "cell_type": "code",
   "execution_count": null,
   "metadata": {},
   "outputs": [],
   "source": [
    "df =pd.concat([df,df.iloc[:,1:].mean(axis=1)],axis = 1)\n",
    "df.columns = ['num_features','fold1','fold2','fold3','fol4','Average']"
   ]
  },
  {
   "cell_type": "code",
   "execution_count": 2,
   "metadata": {},
   "outputs": [],
   "source": [
    "df.to_csv('LR_results.csv')"
   ]
  },
  {
   "cell_type": "code",
   "execution_count": null,
   "metadata": {
    "scrolled": true
   },
   "outputs": [],
   "source": [
    "num_features = 10\n",
    "estimator = LogisticRegression(random_state=0) #\n",
    "print(num_features)\n",
    "rfe=RFE(estimator,  n_features_to_select=num_features,step=1)\n",
    "rfe.fit(train[col_withoutID],train['OS'])\n",
    "ranking_RFE=rfe.ranking_\n",
    "indices=np.where(ranking_RFE==1)\n",
    "indices = list(indices[0])\n",
    "data_RFE=train[col_withoutID].iloc[:,indices]\n",
    "valid_RFE = test[col_withoutID].iloc[:,indices]\n",
    "print(data_RFE.columns)"
   ]
  },
  {
   "cell_type": "code",
   "execution_count": null,
   "metadata": {
    "scrolled": true
   },
   "outputs": [],
   "source": [
    "import shap\n",
    "import sklearn.svm as svm\n",
    "svm = LogisticRegression(random_state=0)\n",
    "svm.fit(data_RFE, train['OS'])\n",
    "\n",
    "Y_pred=svm.predict(valid_RFE).ravel()\n",
    "acc=metrics.accuracy_score(test['OS'],Y_pred)\n",
    "print(\"accuracy score = \"+str(acc))  \n"
   ]
  },
  {
   "cell_type": "code",
   "execution_count": null,
   "metadata": {},
   "outputs": [],
   "source": [
    "from sklearn.metrics import confusion_matrix\n",
    "confusion_matrix = confusion_matrix(test['OS'].values,Y_pred)\n",
    "FP = confusion_matrix.sum(axis=0) - np.diag(confusion_matrix)  \n",
    "FN = confusion_matrix.sum(axis=1) - np.diag(confusion_matrix)\n",
    "TP = np.diag(confusion_matrix)\n",
    "TN = confusion_matrix.sum() - (FP + FN + TP)\n",
    "\n",
    "# Sensitivity, hit rate, recall, or true positive rate\n",
    "TPR = TP/(TP+FN)\n",
    "# Specificity or true negative rate\n",
    "TNR = TN/(TN+FP) \n",
    "print('Sensitivity ='+ str(TPR))\n",
    "print('Specificity = ' +str(TNR))"
   ]
  },
  {
   "cell_type": "code",
   "execution_count": null,
   "metadata": {},
   "outputs": [],
   "source": [
    "\n",
    "explainer = shap.LinearExplainer(svm, data_RFE, feature_dependence=\"independent\")\n",
    "shap_values = explainer.shap_values(data_RFE)\n",
    "shap.initjs()\n",
    "# plot the SHAP values for the Setosa output of the first instance\n",
    "shap.summary_plot(shap_values, data_RFE.iloc[:,:], feature_names=data_RFE.columns,show=True)\n"
   ]
  },
  {
   "cell_type": "code",
   "execution_count": null,
   "metadata": {},
   "outputs": [],
   "source": []
  }
 ],
 "metadata": {
  "kernelspec": {
   "display_name": "py3",
   "language": "python",
   "name": "py3"
  },
  "language_info": {
   "codemirror_mode": {
    "name": "ipython",
    "version": 3
   },
   "file_extension": ".py",
   "mimetype": "text/x-python",
   "name": "python",
   "nbconvert_exporter": "python",
   "pygments_lexer": "ipython3",
   "version": "3.5.2"
  }
 },
 "nbformat": 4,
 "nbformat_minor": 2
}
